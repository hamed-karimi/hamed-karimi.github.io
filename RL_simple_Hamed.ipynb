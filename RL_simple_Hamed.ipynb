{
  "cells": [
    {
      "cell_type": "markdown",
      "metadata": {
        "id": "view-in-github",
        "colab_type": "text"
      },
      "source": [
        "<a href=\"https://colab.research.google.com/github/hamed-karimi/hamed-karimi.github.io/blob/master/RL_simple_Hamed.ipynb\" target=\"_parent\"><img src=\"https://colab.research.google.com/assets/colab-badge.svg\" alt=\"Open In Colab\"/></a>"
      ]
    },
    {
      "cell_type": "code",
      "execution_count": 9,
      "metadata": {
        "id": "3p5v2CO7ZO1H"
      },
      "outputs": [],
      "source": [
        "import numpy as np\n",
        "import torch\n",
        "import torch.nn as nn\n",
        "import torch.nn.functional as F\n",
        "import copy\n",
        "import random\n",
        "from collections import namedtuple, deque\n",
        "from torch import optim\n",
        "import matplotlib.pyplot as plt\n",
        "import torch.nn.init as init"
      ]
    },
    {
      "cell_type": "code",
      "execution_count": 2,
      "metadata": {
        "id": "fXdIqjk5pdrZ"
      },
      "outputs": [],
      "source": [
        "device = torch.device(\"cuda\" if torch.cuda.is_available() else \"cpu\")"
      ]
    },
    {
      "cell_type": "code",
      "execution_count": 3,
      "metadata": {
        "id": "k0rrFaGHeUU9"
      },
      "outputs": [],
      "source": [
        "class Agent:\n",
        "  def __init__(self, h, w):\n",
        "    self.location = torch.from_numpy(np.asarray((np.random.randint(h), np.random.randint(w)))).unsqueeze(0)\n",
        "    self.steps_done = 0\n",
        "    self.episode_num = 1000\n",
        "    self.episode_len = 500\n",
        "    self.EPS_START = 0.9\n",
        "    self.EPS_END = 0.05\n",
        "\n",
        "  def get_epsilon(self):\n",
        "    epsilon = self.EPS_START - (self.steps_done/(self.episode_num * self.episode_len)) * (self.EPS_START - self.EPS_END)\n",
        "    return epsilon\n",
        "\n",
        "  def get_location(self):\n",
        "    # print('Agent location: ', self.location)\n",
        "    return self.location\n",
        "\n",
        "  def select_action(self, environment, policy_net): # Select an action based on value\n",
        "    epsilon = self.get_epsilon()\n",
        "    e = random.random()\n",
        "    action_mask = environment.get_action_mask()\n",
        "    if e > epsilon:\n",
        "      with torch.no_grad():\n",
        "        env_map = environment.env_map.clone()\n",
        "        q = policy_net(env_map).squeeze() # This line which calls the policy_net.forward() function seems to cause the problem\n",
        "        q[torch.logical_not(torch.from_numpy(action_mask).bool())[0]] = -3.40e+38\n",
        "        # print('Q: ', q)\n",
        "\n",
        "        action_id = q.argmax().unsqueeze(0)\n",
        "    else:\n",
        "      valid_actions = np.where(action_mask>0)[1]\n",
        "      action_id = np.array(valid_actions[random.randint(0, valid_actions.shape[0]-1)])\n",
        "      action_id = torch.from_numpy(action_id).unsqueeze(0)    \n",
        "    self.steps_done += 1\n",
        "    return action_id # to device\n",
        "  \n",
        "  def take_action(self, environment, action_id):\n",
        "    # print('action id: ', action_id)\n",
        "    selected_action = environment.allactions[action_id].squeeze() # to device\n",
        "    # print('selected action: ', selected_action, 'agent location: ', self.location)\n",
        "    self.location[0] += selected_action\n",
        "    environment.update_agent_location_on_map(self)\n",
        "    at_reward = environment.get_reward()\n",
        "    at_cost = environment.get_cost(action_id)\n",
        "    rho = at_reward - at_cost\n",
        "    return rho.unsqueeze(0)"
      ]
    },
    {
      "cell_type": "code",
      "execution_count": 4,
      "metadata": {
        "id": "x0ro-fxdie2F"
      },
      "outputs": [],
      "source": [
        "class Environment:\n",
        "  def __init__(self, h, w, nObj, agent):\n",
        "    self.channels = 2\n",
        "    self.height = h\n",
        "    self.width = w\n",
        "    self.nObj = nObj\n",
        "    self.agent_location = agent.get_location() #np.asarray((np.random.randint(self.height), np.random.randint(self.width)))\n",
        "    self.env_map = torch.zeros((1, self.channels, self.height, self.width)) # the 1 is for the env_map can be matched with the dimesions of weights (8, 2, 4, 4)\n",
        "    self.object_locations = torch.zeros((nObj, 2))\n",
        "    self.init_object_locations()\n",
        "    self.update_agent_location_on_map(agent)\n",
        "    self.reward_of_object = [20]\n",
        "    allactions_np = [np.array([0,0]),np.array([1,0]),np.array([-1,0]),np.array([0,1]),np.array([0,-1]),np.array([1,1]),np.array([-1,-1]),np.array([-1,1]),np.array([1,-1])]\n",
        "    self.allactions = [torch.from_numpy(x).unsqueeze(0) for x in allactions_np]\n",
        "\n",
        "  def init_object_locations(self): # Place objects on the map\n",
        "    # self.env_map[0, self.agent_position[0], self.agent_position[1]] = 1\n",
        "    for obj in range(self.nObj):\n",
        "      do = 1\n",
        "      while do:\n",
        "        sample = np.array([np.random.randint(self.height), np.random.randint(self.width)])\n",
        "        if not self.env_map[0, 1, sample[0], sample[1]]:\n",
        "          self.object_locations[obj] = torch.from_numpy(sample)\n",
        "          self.env_map[0, 1, sample[0], sample[1]] = 1\n",
        "          do = 0\n",
        "    \n",
        "  def update_agent_location_on_map(self, agent): # This is called by the agent (take_action method) after the action is taken\n",
        "    self.env_map[0, 0, self.agent_location[0, 0], self.agent_location[0, 1]] = 0\n",
        "    self.agent_location = agent.get_location().clone()\n",
        "    self.env_map[0, 0, self.agent_location[0, 0], self.agent_location[0, 1]] = 1\n",
        "\n",
        "  def get_all_action(self):\n",
        "    return self.allactions\n",
        "\n",
        "  def get_action_mask(self):\n",
        "    aa = np.ones((self.agent_location.size(0), len(self.allactions)))\n",
        "    for i,location in enumerate(self.agent_location):\n",
        "      if location[0] == 0:\n",
        "            aa[i,2] = 0\n",
        "            aa[i,6] = 0\n",
        "            aa[i,7] = 0\n",
        "      if location[0] == self.height-1:\n",
        "            aa[i,1] = 0\n",
        "            aa[i,5] = 0\n",
        "            aa[i,8] = 0\n",
        "      if location[1] == 0:\n",
        "            aa[i,4] = 0\n",
        "            aa[i,6] = 0\n",
        "            aa[i,8] = 0\n",
        "      if location[1] == self.width-1:\n",
        "            aa[i,3] = 0\n",
        "            aa[i,5] = 0\n",
        "            aa[i,7] = 0\n",
        "    return aa\n",
        "  def get_reward(self):\n",
        "    r = 0\n",
        "    for obj in range(self.nObj):\n",
        "      r += (torch.all(self.agent_location[0] == self.object_locations[obj]).int() * self.reward_of_object[obj])\n",
        "    return r\n",
        "  def get_cost(self, action_id):\n",
        "    return torch.linalg.norm(self.allactions[action_id].squeeze().float())"
      ]
    },
    {
      "cell_type": "code",
      "execution_count": 5,
      "metadata": {
        "id": "dzT8Ugkidp_c"
      },
      "outputs": [],
      "source": [
        "class DQN(nn.Module):\n",
        "  def __init__(self):\n",
        "    super(DQN, self).__init__()\n",
        "    self.conv1 = nn.Conv2d(2, 8, 4)\n",
        "    self.fc1 = nn.Linear(8, 8)\n",
        "    self.fc2 = nn.Linear(8, 9)\n",
        "  def forward(self, env_map):\n",
        "    y = F.relu(self.conv1(env_map))\n",
        "    y = y.view(-1, self.num_flat_features(y))\n",
        "    y = F.relu(self.fc1(y))\n",
        "    y = self.fc2(y)\n",
        "    return y\n",
        "  def num_flat_features(self, x):                # This is a function we added for convenience to find out the number of features in a layer.\n",
        "      size = x.size()[1:]                        # all dimensions except the batch dimension\n",
        "      num_features = 1\n",
        "      for s in size:\n",
        "          num_features *= s\n",
        "      return num_features"
      ]
    },
    {
      "cell_type": "code",
      "execution_count": 6,
      "metadata": {
        "id": "if7ZDtlyGlRg"
      },
      "outputs": [],
      "source": [
        "class Replay_Memory():\n",
        "  def __init__(self, capacity=50000):\n",
        "    self.memory = deque([], maxlen=capacity)\n",
        "    self.Transition = namedtuple('Transition', ('state', 'action', 'next_state', 'reward'))\n",
        "  def push(self, *args):\n",
        "    self.memory.append(self.Transition(*args))\n",
        "  def sample(self, size):\n",
        "    return random.sample(self.memory, size)\n",
        "  def __len__(self):\n",
        "    return len(self.memory)\n"
      ]
    },
    {
      "cell_type": "code",
      "execution_count": 11,
      "metadata": {
        "id": "tjDfDcw8JFvQ"
      },
      "outputs": [],
      "source": [
        "class Model_Optimizer:\n",
        "  def __init__(self, policy_net, target_net, optimizer, batch_size, GAMMA):\n",
        "    self.batch_size = batch_size\n",
        "    self.memory = Replay_Memory()\n",
        "    self.policy_net = policy_net\n",
        "    self.target_net = target_net\n",
        "    self.GAMMA = GAMMA\n",
        "    self.optimizer = optimizer\n",
        "  def save_experience(self, last_environment, action_id, reward, at_environment): # at_environment and last_environment are environment.env_map\n",
        "    self.memory.push(last_environment, action_id, at_environment, reward)\n",
        "  def update_target_net(self):\n",
        "    self.target_net.load_state_dict(self.policy_net.state_dict())\n",
        "  def optimize(self): \n",
        "    if self.memory.__len__() < self.batch_size:\n",
        "      return float('nan')\n",
        "    transition_sample = self.memory.sample(self.batch_size)\n",
        "    batch = self.memory.Transition(*zip(*transition_sample))\n",
        "    \n",
        "    last_environment_batch = torch.cat([batch.state[i] for i in range(len(batch.state))])\n",
        "    action_batch = torch.cat(batch.action)\n",
        "    at_environment_batch = torch.cat([batch.next_state[i] for i in range(len(batch.next_state))])\n",
        "    reward_batch = torch.cat(batch.reward)\n",
        "    \n",
        "    last_state_action_values = self.policy_net(last_environment_batch)\n",
        "    at_state_action_values = self.target_net(at_environment_batch).max(1)[0].detach()\n",
        "   \n",
        "    action_values_of_selected_actions = last_state_action_values.gather(dim=1, index=action_batch.unsqueeze(1))\n",
        "    expected_action_values_from_at = at_state_action_values * self.GAMMA + reward_batch\n",
        "    \n",
        "    criterion = nn.SmoothL1Loss()\n",
        "    loss = criterion(action_values_of_selected_actions, expected_action_values_from_at.unsqueeze(1))\n",
        "    # Optimize the model\n",
        "    self.optimizer.zero_grad()\n",
        "    loss.backward()\n",
        "    for param in policy_net.parameters():\n",
        "        #print('test')\n",
        "        param.grad.data.clamp_(-1, 1)\n",
        "    self.optimizer.step()\n",
        "    return loss"
      ]
    },
    {
      "cell_type": "code",
      "execution_count": 10,
      "metadata": {
        "id": "sQwQYPJZYvw7"
      },
      "outputs": [],
      "source": [
        "def weights_init_orthogonal(m):\n",
        "  classname = m.__class__.__name__\n",
        "  #print(classname)\n",
        "  if classname.find('Conv') != -1:\n",
        "    init.orthogonal_(m.weight.data, gain=1)\n",
        "  elif classname.find('Linear') != -1:\n",
        "    init.orthogonal_(m.weight.data, gain=1)\n",
        "  elif classname.find('BatchNorm') != -1:\n",
        "    init.normal(m.weight.data, 1.0, 0.02)\n",
        "    init.constant(m.bias.data, 0.0) "
      ]
    },
    {
      "cell_type": "code",
      "execution_count": 14,
      "metadata": {
        "colab": {
          "base_uri": "https://localhost:8080/"
        },
        "id": "79IS0GDPQuQM",
        "outputId": "6f79d0ec-4d02-465e-a46c-887a0d87f192"
      },
      "outputs": [
        {
          "output_type": "stream",
          "name": "stdout",
          "text": [
            "tensor([-0.2146])  \n",
            "tensor(nan, grad_fn=<DivBackward0>) \n",
            "\n",
            "tensor([0.0451])  \n",
            "tensor(0.0021, grad_fn=<DivBackward0>) \n",
            "\n",
            "tensor([0.6133])  \n",
            "tensor(0.0018, grad_fn=<DivBackward0>) \n",
            "\n",
            "tensor([-0.0659])  \n",
            "tensor(0.0018, grad_fn=<DivBackward0>) \n",
            "\n",
            "tensor([0.3994])  \n",
            "tensor(0.0016, grad_fn=<DivBackward0>) \n",
            "\n",
            "tensor([0.3852])  \n",
            "tensor(0.0016, grad_fn=<DivBackward0>) \n",
            "\n",
            "tensor([0.5839])  \n",
            "tensor(0.0017, grad_fn=<DivBackward0>) \n",
            "\n",
            "tensor([0.7442])  \n",
            "tensor(0.0015, grad_fn=<DivBackward0>) \n",
            "\n",
            "tensor([0.3147])  \n",
            "tensor(0.0014, grad_fn=<DivBackward0>) \n",
            "\n",
            "tensor([0.4821])  \n",
            "tensor(0.0013, grad_fn=<DivBackward0>) \n",
            "\n",
            "TARGET NET UPDATED\n",
            "tensor([0.8992])  \n",
            "tensor(0.4502, grad_fn=<DivBackward0>) \n",
            "\n",
            "tensor([1.1577])  \n",
            "tensor(0.1761, grad_fn=<DivBackward0>) \n",
            "\n",
            "tensor([1.7485])  \n",
            "tensor(0.1658, grad_fn=<DivBackward0>) \n",
            "\n",
            "tensor([1.0677])  \n",
            "tensor(0.1522, grad_fn=<DivBackward0>) \n",
            "\n",
            "tensor([1.3792])  \n",
            "tensor(0.1402, grad_fn=<DivBackward0>) \n",
            "\n",
            "tensor([2.0502])  \n",
            "tensor(0.0695, grad_fn=<DivBackward0>) \n",
            "\n",
            "tensor([1.7432])  \n",
            "tensor(0.0593, grad_fn=<DivBackward0>) \n",
            "\n",
            "tensor([1.8597])  \n",
            "tensor(0.0579, grad_fn=<DivBackward0>) \n",
            "\n",
            "tensor([1.9552])  \n",
            "tensor(0.0549, grad_fn=<DivBackward0>) \n",
            "\n",
            "tensor([1.8849])  \n",
            "tensor(0.0499, grad_fn=<DivBackward0>) \n",
            "\n",
            "TARGET NET UPDATED\n",
            "tensor([1.8004])  \n",
            "tensor(2.3277, grad_fn=<DivBackward0>) \n",
            "\n",
            "tensor([2.3643])  \n",
            "tensor(0.4856, grad_fn=<DivBackward0>) \n",
            "\n",
            "tensor([2.1409])  \n",
            "tensor(0.3672, grad_fn=<DivBackward0>) \n",
            "\n",
            "tensor([2.4518])  \n",
            "tensor(0.2938, grad_fn=<DivBackward0>) \n",
            "\n",
            "tensor([1.9336])  \n",
            "tensor(0.2666, grad_fn=<DivBackward0>) \n",
            "\n",
            "tensor([2.6159])  \n",
            "tensor(0.2378, grad_fn=<DivBackward0>) \n",
            "\n",
            "tensor([2.3929])  \n",
            "tensor(0.2037, grad_fn=<DivBackward0>) \n",
            "\n",
            "tensor([2.4559])  \n",
            "tensor(0.1913, grad_fn=<DivBackward0>) \n",
            "\n",
            "tensor([1.9232])  \n",
            "tensor(0.1872, grad_fn=<DivBackward0>) \n",
            "\n",
            "tensor([2.7193])  \n",
            "tensor(0.1835, grad_fn=<DivBackward0>) \n",
            "\n",
            "TARGET NET UPDATED\n",
            "tensor([3.1113])  \n",
            "tensor(4.3414, grad_fn=<DivBackward0>) \n",
            "\n",
            "tensor([3.0588])  \n",
            "tensor(0.6912, grad_fn=<DivBackward0>) \n",
            "\n",
            "tensor([4.1131])  \n",
            "tensor(0.6590, grad_fn=<DivBackward0>) \n",
            "\n",
            "tensor([3.0732])  \n",
            "tensor(0.5864, grad_fn=<DivBackward0>) \n",
            "\n",
            "tensor([3.1956])  \n",
            "tensor(0.5539, grad_fn=<DivBackward0>) \n",
            "\n",
            "tensor([2.7069])  \n",
            "tensor(0.5750, grad_fn=<DivBackward0>) \n",
            "\n",
            "tensor([3.6849])  \n",
            "tensor(0.5502, grad_fn=<DivBackward0>) \n",
            "\n",
            "tensor([3.6459])  \n",
            "tensor(0.5321, grad_fn=<DivBackward0>) \n",
            "\n",
            "tensor([5.0043])  \n",
            "tensor(0.5331, grad_fn=<DivBackward0>) \n",
            "\n",
            "tensor([4.4380])  \n",
            "tensor(0.5283, grad_fn=<DivBackward0>) \n",
            "\n",
            "TARGET NET UPDATED\n",
            "tensor([4.0391])  \n",
            "tensor(15.2707, grad_fn=<DivBackward0>) \n",
            "\n",
            "tensor([4.2095])  \n",
            "tensor(2.1122, grad_fn=<DivBackward0>) \n",
            "\n",
            "tensor([4.4884])  \n",
            "tensor(1.9062, grad_fn=<DivBackward0>) \n",
            "\n",
            "tensor([4.6115])  \n",
            "tensor(1.8031, grad_fn=<DivBackward0>) \n",
            "\n",
            "tensor([4.2085])  \n",
            "tensor(1.7183, grad_fn=<DivBackward0>) \n",
            "\n",
            "tensor([4.1908])  \n",
            "tensor(1.7012, grad_fn=<DivBackward0>) \n",
            "\n",
            "tensor([3.6132])  \n",
            "tensor(1.6523, grad_fn=<DivBackward0>) \n",
            "\n",
            "tensor([3.7504])  \n",
            "tensor(1.6466, grad_fn=<DivBackward0>) \n",
            "\n",
            "tensor([4.2214])  \n",
            "tensor(1.6004, grad_fn=<DivBackward0>) \n",
            "\n",
            "tensor([4.0131])  \n",
            "tensor(1.5891, grad_fn=<DivBackward0>) \n",
            "\n",
            "TARGET NET UPDATED\n",
            "tensor([3.3763])  \n",
            "tensor(44.6632, grad_fn=<DivBackward0>) \n",
            "\n",
            "tensor([1.4454])  \n",
            "tensor(7.3361, grad_fn=<DivBackward0>) \n",
            "\n",
            "tensor([2.0771])  \n",
            "tensor(6.6014, grad_fn=<DivBackward0>) \n",
            "\n",
            "tensor([2.1623])  \n",
            "tensor(6.6968, grad_fn=<DivBackward0>) \n",
            "\n",
            "tensor([2.0011])  \n",
            "tensor(6.5424, grad_fn=<DivBackward0>) \n",
            "\n",
            "tensor([1.3447])  \n",
            "tensor(6.7739, grad_fn=<DivBackward0>) \n",
            "\n",
            "tensor([0.0939])  \n",
            "tensor(7.0643, grad_fn=<DivBackward0>) \n",
            "\n",
            "tensor([0.0949])  \n",
            "tensor(5.3563, grad_fn=<DivBackward0>) \n",
            "\n",
            "tensor([-0.0128])  \n",
            "tensor(5.2838, grad_fn=<DivBackward0>) \n",
            "\n",
            "tensor([0.1907])  \n",
            "tensor(5.1851, grad_fn=<DivBackward0>) \n",
            "\n",
            "TARGET NET UPDATED\n",
            "tensor([0.8670])  \n",
            "tensor(104.6364, grad_fn=<DivBackward0>) \n",
            "\n",
            "tensor([0.1941])  \n",
            "tensor(16.2108, grad_fn=<DivBackward0>) \n",
            "\n",
            "tensor([0.1066])  \n",
            "tensor(14.2150, grad_fn=<DivBackward0>) \n",
            "\n",
            "tensor([0.2504])  \n",
            "tensor(13.3939, grad_fn=<DivBackward0>) \n",
            "\n",
            "tensor([0.1853])  \n",
            "tensor(12.7816, grad_fn=<DivBackward0>) \n",
            "\n",
            "tensor([0.2993])  \n",
            "tensor(12.1568, grad_fn=<DivBackward0>) \n",
            "\n",
            "tensor([0.1791])  \n",
            "tensor(11.8292, grad_fn=<DivBackward0>) \n",
            "\n",
            "tensor([0.3126])  \n",
            "tensor(11.1446, grad_fn=<DivBackward0>) \n",
            "\n",
            "tensor([0.2627])  \n",
            "tensor(10.6179, grad_fn=<DivBackward0>) \n",
            "\n",
            "tensor([0.1294])  \n",
            "tensor(9.9233, grad_fn=<DivBackward0>) \n",
            "\n",
            "TARGET NET UPDATED\n",
            "tensor([2.7414])  \n",
            "tensor(193.6417, grad_fn=<DivBackward0>) \n",
            "\n",
            "tensor([6.7616])  \n",
            "tensor(18.8112, grad_fn=<DivBackward0>) \n",
            "\n",
            "tensor([8.2984])  \n",
            "tensor(17.2474, grad_fn=<DivBackward0>) \n",
            "\n",
            "tensor([7.1548])  \n",
            "tensor(15.9716, grad_fn=<DivBackward0>) \n",
            "\n",
            "tensor([7.1984])  \n",
            "tensor(15.0773, grad_fn=<DivBackward0>) \n",
            "\n",
            "tensor([7.4696])  \n",
            "tensor(14.2151, grad_fn=<DivBackward0>) \n",
            "\n",
            "tensor([8.1519])  \n",
            "tensor(13.1624, grad_fn=<DivBackward0>) \n",
            "\n",
            "tensor([7.7452])  \n",
            "tensor(12.4702, grad_fn=<DivBackward0>) \n",
            "\n",
            "tensor([7.7661])  \n",
            "tensor(11.8840, grad_fn=<DivBackward0>) \n",
            "\n",
            "tensor([8.0865])  \n",
            "tensor(11.6017, grad_fn=<DivBackward0>) \n",
            "\n",
            "TARGET NET UPDATED\n",
            "tensor([8.2474])  \n",
            "tensor(567.8147, grad_fn=<DivBackward0>) \n",
            "\n",
            "tensor([8.0785])  \n",
            "tensor(24.3532, grad_fn=<DivBackward0>) \n",
            "\n",
            "tensor([8.4752])  \n",
            "tensor(23.4289, grad_fn=<DivBackward0>) \n",
            "\n",
            "tensor([8.2161])  \n",
            "tensor(23.3402, grad_fn=<DivBackward0>) \n",
            "\n",
            "tensor([8.3399])  \n",
            "tensor(22.2880, grad_fn=<DivBackward0>) \n",
            "\n",
            "tensor([8.5448])  \n",
            "tensor(22.1372, grad_fn=<DivBackward0>) \n",
            "\n",
            "tensor([8.5911])  \n",
            "tensor(21.7003, grad_fn=<DivBackward0>) \n",
            "\n",
            "tensor([8.4646])  \n",
            "tensor(20.8524, grad_fn=<DivBackward0>) \n",
            "\n",
            "tensor([8.8499])  \n",
            "tensor(20.7890, grad_fn=<DivBackward0>) \n",
            "\n",
            "tensor([8.8283])  \n",
            "tensor(20.1636, grad_fn=<DivBackward0>) \n",
            "\n",
            "TARGET NET UPDATED\n",
            "tensor([8.8089])  \n",
            "tensor(1105.1881, grad_fn=<DivBackward0>) \n",
            "\n",
            "tensor([9.0477])  \n",
            "tensor(41.5796, grad_fn=<DivBackward0>) \n",
            "\n",
            "tensor([8.8705])  \n",
            "tensor(36.6819, grad_fn=<DivBackward0>) \n",
            "\n",
            "tensor([9.1803])  \n",
            "tensor(35.3646, grad_fn=<DivBackward0>) \n",
            "\n",
            "tensor([8.9460])  \n",
            "tensor(34.8841, grad_fn=<DivBackward0>) \n",
            "\n",
            "tensor([8.9824])  \n",
            "tensor(33.5933, grad_fn=<DivBackward0>) \n",
            "\n",
            "tensor([9.0764])  \n",
            "tensor(32.1796, grad_fn=<DivBackward0>) \n",
            "\n",
            "tensor([9.1943])  \n",
            "tensor(31.6964, grad_fn=<DivBackward0>) \n",
            "\n",
            "tensor([9.2534])  \n",
            "tensor(30.2458, grad_fn=<DivBackward0>) \n",
            "\n",
            "tensor([9.4682])  \n",
            "tensor(29.7089, grad_fn=<DivBackward0>) \n",
            "\n",
            "TARGET NET UPDATED\n"
          ]
        }
      ],
      "source": [
        "agent = Agent(4, 4)\n",
        "env = Environment(4, 4, 1, agent)\n",
        "policy_net = DQN()\n",
        "policy_net.apply(weights_init_orthogonal)\n",
        "target_net = DQN()\n",
        "target_net.load_state_dict(policy_net.state_dict())\n",
        "TARGET_UPDATE = 100\n",
        "BATCH_SIZE = 256\n",
        "total_loss = []\n",
        "total_reward = []\n",
        "model_optimizer = Model_Optimizer(policy_net, target_net, \\\n",
        "                                  optimizer=optim.RMSprop(policy_net.parameters()), batch_size=BATCH_SIZE, GAMMA=0.99)\n",
        "for episode in range(agent.episode_num):\n",
        "  cum_loss = 0\n",
        "  cum_reward = 0\n",
        "  for action in range(agent.episode_len):\n",
        "    last_environment = env.env_map.clone()\n",
        "    action_id = agent.select_action(env, model_optimizer.policy_net)\n",
        "    # print('action id here: ', action_id)\n",
        "    rho = agent.take_action(env, action_id)\n",
        "    model_optimizer.save_experience(last_environment, action_id, rho, env.env_map.clone())\n",
        "    cum_reward += rho\n",
        "    if action > 10:\n",
        "      cum_loss += model_optimizer.optimize()\n",
        "\n",
        "  total_reward.append(cum_reward/agent.episode_num)\n",
        "  total_loss.append(cum_loss/agent.episode_num)\n",
        "\n",
        "  if episode % 10 == 0:\n",
        "    print(cum_reward/agent.episode_num,' ')\n",
        "    print(cum_loss/agent.episode_num,'\\n')\n",
        "  if (episode+1) % TARGET_UPDATE == 0:\n",
        "    model_optimizer.update_target_net()\n",
        "    print('TARGET NET UPDATED')"
      ]
    },
    {
      "cell_type": "code",
      "execution_count": 15,
      "metadata": {
        "colab": {
          "base_uri": "https://localhost:8080/",
          "height": 388
        },
        "id": "3dvi4jf_Po3x",
        "outputId": "dae550ed-75f1-41de-aaa2-32ac7fe4e810"
      },
      "outputs": [
        {
          "output_type": "stream",
          "name": "stderr",
          "text": [
            "/usr/local/lib/python3.7/dist-packages/numpy/core/shape_base.py:65: FutureWarning: The input object of type 'Tensor' is an array-like implementing one of the corresponding protocols (`__array__`, `__array_interface__` or `__array_struct__`); but not a sequence (or 0-D). In the future, this object will be coerced as if it was first converted using `np.array(obj)`. To retain the old behaviour, you have to either modify the type 'Tensor', or assign to an empty array created with `np.empty(correct_shape, dtype=object)`.\n",
            "  ary = asanyarray(ary)\n",
            "/usr/local/lib/python3.7/dist-packages/numpy/core/shape_base.py:65: VisibleDeprecationWarning: Creating an ndarray from ragged nested sequences (which is a list-or-tuple of lists-or-tuples-or ndarrays with different lengths or shapes) is deprecated. If you meant to do this, you must specify 'dtype=object' when creating the ndarray.\n",
            "  ary = asanyarray(ary)\n"
          ]
        },
        {
          "output_type": "execute_result",
          "data": {
            "text/plain": [
              "Text(0.5, 1.0, 'Reward')"
            ]
          },
          "metadata": {},
          "execution_count": 15
        },
        {
          "output_type": "display_data",
          "data": {
            "image/png": "[encoded data removed]",
            "text/plain": [
              "<Figure size 864x288 with 2 Axes>"
            ]
          },
          "metadata": {
            "needs_background": "light"
          }
        }
      ],
      "source": [
        "total_loss_nograd = [tl.detach() for tl in total_loss]\n",
        "plt.figure(figsize=(12, 4))\n",
        "plt.subplot(121)\n",
        "plt.plot(total_loss_nograd)\n",
        "plt.title('Loss')\n",
        "plt.subplot(122)\n",
        "plt.plot(total_reward)\n",
        "plt.title('Reward')"
      ]
    },
    {
      "cell_type": "code",
      "execution_count": 16,
      "metadata": {
        "colab": {
          "base_uri": "https://localhost:8080/"
        },
        "id": "b15VkOa4UNlz",
        "outputId": "66bda51b-f004-4ffe-a024-ba6d4b0df295"
      },
      "outputs": [
        {
          "output_type": "execute_result",
          "data": {
            "text/plain": [
              "tensor(29.2846)"
            ]
          },
          "metadata": {},
          "execution_count": 16
        }
      ],
      "source": [
        "total_loss_nograd[-1]"
      ]
    },
    {
      "cell_type": "code",
      "execution_count": null,
      "metadata": {
        "colab": {
          "base_uri": "https://localhost:8080/"
        },
        "id": "DPPqx3y9ULIs",
        "outputId": "4fa14830-1ac9-4ac2-9ccf-b1ea0fb13d51"
      },
      "outputs": [
        {
          "name": "stdout",
          "output_type": "stream",
          "text": [
            "action id here:  tensor([0])\n",
            "reward:  tensor([0.])\n",
            "action id here:  tensor([0])\n",
            "reward:  tensor([0.])\n",
            "action id here:  tensor([0])\n",
            "reward:  tensor([0.])\n",
            "action id here:  tensor([0])\n",
            "reward:  tensor([0.])\n",
            "action id here:  tensor([0])\n",
            "reward:  tensor([0.])\n",
            "action id here:  tensor([0])\n",
            "reward:  tensor([0.])\n",
            "action id here:  tensor([0])\n",
            "reward:  tensor([0.])\n",
            "action id here:  tensor([0])\n",
            "reward:  tensor([0.])\n",
            "action id here:  tensor([0])\n",
            "reward:  tensor([0.])\n",
            "action id here:  tensor([0])\n",
            "reward:  tensor([0.])\n"
          ]
        }
      ],
      "source": [
        "for action in range(10):\n",
        "    last_environment = env.env_map.clone()\n",
        "    action_id = agent.select_action(env, policy_net)\n",
        "    print('action id here: ', action_id)\n",
        "    rho = agent.take_action(env, action_id)\n",
        "    print('reward: ', rho)\n",
        "    # model_optimizer.save_experience(last_environment, action_id, rho, env.env_map)"
      ]
    },
    {
      "cell_type": "code",
      "execution_count": null,
      "metadata": {
        "colab": {
          "base_uri": "https://localhost:8080/"
        },
        "id": "PdrYo8fUQJ9L",
        "outputId": "987f0521-b1a7-4663-e6a9-d49d8195fba7"
      },
      "outputs": [
        {
          "name": "stdout",
          "output_type": "stream",
          "text": [
            "[tensor([0.2223]), tensor([0.3231]), tensor([-0.0843]), tensor([0.2333]), tensor([0.5822]), tensor([-0.0974]), tensor([0.0329]), tensor([0.3329]), tensor([0.5749]), tensor([0.3354]), tensor([0.6963]), tensor([0.4295]), tensor([0.3649]), tensor([0.2431]), tensor([0.4726]), tensor([0.1629]), tensor([0.3178]), tensor([0.3855]), tensor([0.8084]), tensor([-0.0464]), tensor([0.0736]), tensor([0.5187]), tensor([0.3266]), tensor([0.5044]), tensor([0.5860]), tensor([0.6388]), tensor([0.3592]), tensor([0.2441]), tensor([0.7500]), tensor([0.9670]), tensor([0.1421]), tensor([-0.0031]), tensor([0.3086]), tensor([1.6663]), tensor([0.0936]), tensor([0.2251]), tensor([0.4435]), tensor([0.2062]), tensor([0.1350]), tensor([0.3958]), tensor([0.4235]), tensor([0.5068]), tensor([0.3683]), tensor([0.1345]), tensor([0.6156]), tensor([0.8223]), tensor([0.5481]), tensor([0.8202]), tensor([0.5928]), tensor([0.1355]), tensor([0.3846]), tensor([0.2975]), tensor([0.2849]), tensor([0.0651]), tensor([0.2093]), tensor([0.4560]), tensor([0.3832]), tensor([1.2295]), tensor([0.7685]), tensor([0.1123]), tensor([1.0292]), tensor([0.4596]), tensor([0.5275]), tensor([0.8076]), tensor([0.5723]), tensor([0.5132]), tensor([0.4953]), tensor([-0.0991]), tensor([0.1737]), tensor([0.3734]), tensor([1.2033]), tensor([1.5370]), tensor([0.0226]), tensor([0.1481]), tensor([0.6915]), tensor([0.2423]), tensor([0.0316]), tensor([0.4072]), tensor([0.9042]), tensor([0.6217]), tensor([0.6697]), tensor([0.2745]), tensor([0.0742]), tensor([1.5212]), tensor([0.2425]), tensor([0.2795]), tensor([0.3105]), tensor([0.4437]), tensor([0.5471]), tensor([0.0868]), tensor([0.3059]), tensor([0.3429]), tensor([1.4472]), tensor([0.4775]), tensor([0.2185]), tensor([0.1421]), tensor([1.0892]), tensor([0.2036]), tensor([0.7877]), tensor([0.7764]), tensor([-0.0425]), tensor([0.9185]), tensor([0.1756]), tensor([0.7076]), tensor([-0.0345]), tensor([0.8244]), tensor([0.1829]), tensor([0.2142]), tensor([0.8211]), tensor([1.7866]), tensor([0.8114]), tensor([0.6970]), tensor([1.3020]), tensor([1.0530]), tensor([0.7429]), tensor([0.9206]), tensor([0.2044]), tensor([-0.0159]), tensor([0.9918]), tensor([0.5558]), tensor([-0.0189]), tensor([-0.0135]), tensor([0.2713]), tensor([-0.0121]), tensor([-0.0107]), tensor([-0.0058]), tensor([-0.0038]), tensor([-0.0014]), tensor([-0.0010]), tensor([0.]), tensor([0.]), tensor([0.]), tensor([0.]), tensor([0.]), tensor([0.]), tensor([0.]), tensor([0.]), tensor([0.]), tensor([0.]), tensor([0.]), tensor([0.]), tensor([0.]), tensor([0.]), tensor([0.]), tensor([0.]), tensor([0.]), tensor([0.]), tensor([0.]), tensor([0.]), tensor([0.]), tensor([0.]), tensor([0.]), tensor([0.]), tensor([0.]), tensor([0.]), tensor([0.]), tensor([0.]), tensor([0.]), tensor([0.]), tensor([0.]), tensor([0.]), tensor([0.]), tensor([0.]), tensor([0.]), tensor([0.]), tensor([0.]), tensor([0.]), tensor([0.]), tensor([0.]), tensor([0.]), tensor([0.]), tensor([0.]), tensor([0.]), tensor([0.]), tensor([0.]), tensor([0.]), tensor([0.]), tensor([0.]), tensor([0.]), tensor([0.]), tensor([0.]), tensor([0.]), tensor([0.]), tensor([0.]), tensor([0.]), tensor([0.]), tensor([0.]), tensor([0.]), tensor([0.]), tensor([0.]), tensor([0.]), tensor([0.]), tensor([0.]), tensor([0.]), tensor([0.]), tensor([0.]), tensor([0.]), tensor([0.]), tensor([0.]), tensor([0.])]\n"
          ]
        }
      ],
      "source": [
        "# for name, param in target_net.named_parameters():\n",
        "  # print(name, param)\n",
        "print(total_reward[400:600])"
      ]
    },
    {
      "cell_type": "code",
      "execution_count": null,
      "metadata": {
        "id": "e42EtWHOA5Bp"
      },
      "outputs": [],
      "source": [
        "Transition = namedtuple('Transition', ('state', 'action', 'next_state', 'reward'))\n",
        "memory = Replay_Memory()\n",
        "for i in range(20):\n",
        "  memory.push('state%d' %(i), 'action%d' %(i), 'next_state%d' %(i), 'reward%d' %(i))\n",
        "transitions = memory.sample(5)\n",
        "print(*zip(*transitions))\n",
        "print(memory.Transition(*zip(*transitions)))\n",
        "batch = memory.Transition(*zip(*transitions))\n",
        "aa = [ss for ss in batch.state]\n",
        "print(aa)"
      ]
    },
    {
      "cell_type": "code",
      "execution_count": null,
      "metadata": {
        "id": "T3V8fjsbRadc"
      },
      "outputs": [],
      "source": [
        "conv2d = nn.Conv2d(2, 8, 4)\n",
        "fc1 = nn.Linear(8, 8)\n",
        "fc2 = nn.Linear(8, 9)\n",
        "y = F.relu(conv2d(env.env_map))\n",
        "print(y.size())\n",
        "y = y.view(-1)\n",
        "y = F.relu(fc1(y))\n",
        "print(y.size())\n",
        "y = fc2(y)\n",
        "print(y.size())"
      ]
    },
    {
      "cell_type": "code",
      "execution_count": null,
      "metadata": {
        "colab": {
          "base_uri": "https://localhost:8080/",
          "height": 106
        },
        "id": "ZDSc44k347pb",
        "outputId": "c710a894-b65b-42d0-b93d-3e7e6b2ee48d"
      },
      "outputs": [
        {
          "data": {
            "image/png": "[encoded data removed]",
            "text/plain": [
              "<Figure size 72x72 with 1 Axes>"
            ]
          },
          "metadata": {},
          "output_type": "display_data"
        }
      ],
      "source": [
        "fig, ax = plt.subplots(figsize=(1, 1))\n",
        "ax.scatter(agent.location[0, 0].float(), agent.location[0, 1].float(), c='b')\n",
        "ax.scatter(env.object_locations[0, 0].int(), env.object_locations[0, 1].int(), c='r')\n",
        "ax.set_xticks([1, 2, 3, 4])\n",
        "ax.set_yticks([1, 2, 3, 4])\n",
        "ax.grid(True)\n",
        "# ax.clear()"
      ]
    },
    {
      "cell_type": "code",
      "execution_count": null,
      "metadata": {
        "colab": {
          "base_uri": "https://localhost:8080/"
        },
        "id": "5UXt2oo0iM6K",
        "outputId": "a1f87de0-2d10-4102-9729-f4c3b0a0a5a9"
      },
      "outputs": [
        {
          "data": {
            "text/plain": [
              "tensor(2, dtype=torch.int32)"
            ]
          },
          "execution_count": 48,
          "metadata": {},
          "output_type": "execute_result"
        }
      ],
      "source": [
        "agent.location[0, 0].int()"
      ]
    },
    {
      "cell_type": "code",
      "execution_count": null,
      "metadata": {
        "cellView": "form",
        "id": "1FRbZsfniC3M"
      },
      "outputs": [],
      "source": [
        "#@title\n",
        "aid = np.zeros(len(mask[0]))\n",
        "# print(np.int(sum(mask[0])))\n",
        "aa = np.zeros(np.int(sum(mask[0])))\n",
        "\n",
        "aa[random.randint(0,sum(mask[0])-1)] = 1\n",
        "print(aa)\n",
        "print(np.where(mask[0]>0))\n",
        "aid[np.where(mask[0]>0)] = aa\n",
        "actionid = np.where(aid>0)\n",
        "actionid = torch.from_numpy(actionid[0])"
      ]
    },
    {
      "cell_type": "code",
      "execution_count": null,
      "metadata": {
        "cellView": "form",
        "id": "VL6A4MEqJnwM"
      },
      "outputs": [],
      "source": [
        "#@title\n",
        "print(mask)\n",
        "actions = env.get_all_action()\n",
        "valid_actions = np.where(mask>0)[1]\n",
        "action_id = np.array(valid_actions[random.randint(0, valid_actions.shape[0]-1)])\n",
        "action_id = torch.from_numpy(action_id).unsqueeze(0)\n",
        "print(actions)\n",
        "print(action_id)\n",
        "print(actions[action_id])"
      ]
    }
  ],
  "metadata": {
    "colab": {
      "collapsed_sections": [],
      "name": "RL_simple_Hamed.ipynb",
      "provenance": [],
      "authorship_tag": "ABX9TyPFRVBX3mgP8YKKDrgfxTLs",
      "include_colab_link": true
    },
    "kernelspec": {
      "display_name": "Python 3",
      "name": "python3"
    },
    "language_info": {
      "name": "python"
    }
  },
  "nbformat": 4,
  "nbformat_minor": 0
}